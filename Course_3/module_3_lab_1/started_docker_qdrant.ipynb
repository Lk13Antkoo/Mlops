{
 "cells": [
  {
   "cell_type": "code",
   "execution_count": 2,
   "metadata": {},
   "outputs": [
    {
     "name": "stdout",
     "output_type": "stream",
     "text": [
      "Name: qdrant-client\n",
      "Version: 1.12.1\n",
      "Summary: Client library for the Qdrant vector search engine\n",
      "Home-page: https://github.com/qdrant/qdrant-client\n",
      "Author: Andrey Vasnetsov\n",
      "Author-email: andrey@qdrant.tech\n",
      "License: Apache-2.0\n",
      "Location: c:\\users\\halib\\onedrive\\documents\\project_code\\duke\\course_3\\.venv\\lib\\site-packages\n",
      "Requires: grpcio, grpcio-tools, httpx, numpy, portalocker, pydantic, urllib3\n",
      "Required-by: \n"
     ]
    }
   ],
   "source": [
    "#=== stall qdrant_client + docker, start app docker\n",
    "#=== check qd_rant\n",
    "!pip show qdrant_client"
   ]
  },
  {
   "cell_type": "code",
   "execution_count": 18,
   "metadata": {},
   "outputs": [
    {
     "name": "stdout",
     "output_type": "stream",
     "text": [
      "Using default tag: latest\n"
     ]
    },
    {
     "name": "stderr",
     "output_type": "stream",
     "text": [
      "error during connect: Post \"http://%2F%2F.%2Fpipe%2FdockerDesktopLinuxEngine/v1.47/images/create?fromImage=qdrant%2Fqdrant&tag=latest\": open //./pipe/dockerDesktopLinuxEngine: The system cannot find the file specified.\n"
     ]
    }
   ],
   "source": [
    "#==== run 1 time only\n",
    "!docker pull qdrant/qdrant"
   ]
  },
  {
   "cell_type": "code",
   "execution_count": 16,
   "metadata": {},
   "outputs": [
    {
     "name": "stdout",
     "output_type": "stream",
     "text": [
      "^C\n"
     ]
    },
    {
     "name": "stdout",
     "output_type": "stream",
     "text": [
      "           _                 _    \n",
      "  __ _  __| |_ __ __ _ _ __ | |_  \n",
      " / _` |/ _` | '__/ _` | '_ \\| __| \n",
      "| (_| | (_| | | | (_| | | | | |_  \n",
      " \\__, |\\__,_|_|  \\__,_|_| |_|\\__| \n",
      "    |_|                           \n",
      "\n",
      "Version: 1.12.5, build: 27260abd\n",
      "Access web UI at http://localhost:6333/dashboard\n",
      "\n",
      "2024-12-20T15:37:15.787825Z  INFO storage::content_manager::consensus::persistent: Loading raft state from ./storage/raft_state.json    \n",
      "2024-12-20T15:37:15.942383Z  INFO qdrant: Distributed mode disabled    \n",
      "2024-12-20T15:37:15.942435Z  INFO qdrant: Telemetry reporting enabled, id: 13669c6a-7c7a-40d8-8c97-c858b16fa6f4    \n",
      "2024-12-20T15:37:15.946303Z  INFO qdrant: Inference service is not configured.    \n",
      "2024-12-20T15:37:15.962223Z  INFO qdrant::actix: TLS disabled for REST API    \n",
      "2024-12-20T15:37:15.962341Z  INFO qdrant::actix: Qdrant HTTP listening on 6333    \n",
      "2024-12-20T15:37:15.962358Z  INFO actix_server::builder: Starting 7 workers\n",
      "2024-12-20T15:37:15.962363Z  INFO actix_server::server: Actix runtime found; starting in Actix runtime\n",
      "2024-12-20T15:37:15.968248Z  INFO qdrant::tonic: Qdrant gRPC listening on 6334    \n",
      "2024-12-20T15:37:15.968291Z  INFO qdrant::tonic: TLS disabled for gRPC API    \n"
     ]
    },
    {
     "name": "stderr",
     "output_type": "stream",
     "text": [
      "time=\"2024-12-20T16:41:17+01:00\" level=error msg=\"error waiting for container: unexpected EOF\"\n"
     ]
    }
   ],
   "source": [
    "#===run docker service with bash command for easy restart\n",
    "\n",
    "#docker run -p 6333:6333 -p 6334:6334 -v C:/Users/halib/OneDrive/Documents/project_code/DUKE/Course_3/module_3_lab_1/qdrant_storage:/qdrant/storage:z qdrant/qdrant"
   ]
  },
  {
   "cell_type": "code",
   "execution_count": 23,
   "metadata": {},
   "outputs": [
    {
     "data": {
      "text/plain": [
       "True"
      ]
     },
     "execution_count": 23,
     "metadata": {},
     "output_type": "execute_result"
    }
   ],
   "source": [
    "from qdrant_client.models import Distance, VectorParams\n",
    "client = QdrantClient(host=\"localhost\", port=6333)\n",
    "\n",
    "#=== create a collection\n",
    "client.create_collection(\n",
    "    collection_name = \"test_collection\",\n",
    "    vectors_config=VectorParams(size=4, distance=Distance.DOT))\n"
   ]
  },
  {
   "cell_type": "code",
   "execution_count": 24,
   "metadata": {},
   "outputs": [
    {
     "name": "stdout",
     "output_type": "stream",
     "text": [
      "operation_id=0 status=<UpdateStatus.COMPLETED: 'completed'>\n"
     ]
    }
   ],
   "source": [
    "from qdrant_client.models import PointStruct\n",
    "operation_info = client.upsert(\n",
    "    collection_name=\"test_collection\",\n",
    "    wait=True,\n",
    "    points=[\n",
    "         PointStruct(id=1, vector=[0.05, 0.61, 0.76, 0.74], payload={\"city\": \"Berlin\"}),\n",
    "        PointStruct(id=2, vector=[0.19, 0.81, 0.75, 0.11], payload={\"city\": \"London\"}),\n",
    "        PointStruct(id=3, vector=[0.36, 0.55, 0.47, 0.94], payload={\"city\": \"Moscow\"}),\n",
    "        PointStruct(id=4, vector=[0.18, 0.01, 0.85, 0.80], payload={\"city\": \"New York\"}),\n",
    "        PointStruct(id=5, vector=[0.24, 0.18, 0.22, 0.44], payload={\"city\": \"Beijing\"}),\n",
    "        PointStruct(id=6, vector=[0.35, 0.08, 0.11, 0.44], payload={\"city\": \"Mumbai\"}),\n",
    "    ]\n",
    ")\n",
    "print(operation_info)"
   ]
  },
  {
   "cell_type": "code",
   "execution_count": null,
   "metadata": {},
   "outputs": [],
   "source": []
  }
 ],
 "metadata": {
  "kernelspec": {
   "display_name": ".venv",
   "language": "python",
   "name": "python3"
  },
  "language_info": {
   "codemirror_mode": {
    "name": "ipython",
    "version": 3
   },
   "file_extension": ".py",
   "mimetype": "text/x-python",
   "name": "python",
   "nbconvert_exporter": "python",
   "pygments_lexer": "ipython3",
   "version": "3.10.11"
  }
 },
 "nbformat": 4,
 "nbformat_minor": 2
}
